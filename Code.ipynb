{
 "cells": [
  {
   "cell_type": "markdown",
   "id": "8214b490",
   "metadata": {},
   "source": [
    "# TS"
   ]
  },
  {
   "cell_type": "code",
   "execution_count": 1,
   "id": "40ce37de",
   "metadata": {},
   "outputs": [],
   "source": [
    "def ts(word):\n",
    "    t = []  # list of position\n",
    "    s = []  # list of tuple (sufix,position)\n",
    "    # geanrating all possible the sufix\n",
    "    for i in range(len(word)):\n",
    "        s.append((word[i:], i))\n",
    "    # sorting and saving position\n",
    "    for pos in sorted(s):\n",
    "        t.append(pos[1])\n",
    "    return t"
   ]
  },
  {
   "cell_type": "code",
   "execution_count": 2,
   "id": "0a3ad934",
   "metadata": {},
   "outputs": [
    {
     "name": "stdout",
     "output_type": "stream",
     "text": [
      "[12, 1, 5, 9, 0, 2, 6, 10, 3, 7, 11, 4, 8]\n"
     ]
    }
   ],
   "source": [
    "list_of_ts = ts('CACGTACGTACTA')\n",
    "print(list_of_ts)"
   ]
  },
  {
   "cell_type": "markdown",
   "id": "948d0f79",
   "metadata": {},
   "source": [
    "# Recherche Dichotomique"
   ]
  },
  {
   "cell_type": "code",
   "execution_count": 3,
   "id": "b2c924dd",
   "metadata": {},
   "outputs": [],
   "source": [
    "def rech_ts(word, motif, list_of_ts):\n",
    "    ###################1##############\n",
    "    n = len(word)\n",
    "    d = 0\n",
    "    f = n\n",
    "    while(d < f):\n",
    "        mil = (d+f)//2\n",
    "        text = word[list_of_ts[mil]:n]\n",
    "        if (motif <= text):\n",
    "            f = mil \n",
    "        else:\n",
    "            d = mil + 1\n",
    "    deb = d\n",
    "    ###################2##############\n",
    "    f = n\n",
    "    l = len(motif)\n",
    "    while(d < f):\n",
    "        mil = (f+d)//2\n",
    "        text = word[list_of_ts[mil]:list_of_ts[mil]+l]\n",
    "        if (motif == text):\n",
    "            d = mil + 1\n",
    "        else:\n",
    "            f = mil - 1\n",
    "    fin = f\n",
    "    return list_of_ts[deb:fin+1]"
   ]
  },
  {
   "cell_type": "code",
   "execution_count": 5,
   "id": "6c4a2235",
   "metadata": {},
   "outputs": [
    {
     "data": {
      "text/plain": [
       "[2, 6]"
      ]
     },
     "execution_count": 5,
     "metadata": {},
     "output_type": "execute_result"
    }
   ],
   "source": [
    "rech_ts('CACGTACGTACTA', 'CG', list_of_ts)"
   ]
  },
  {
   "cell_type": "code",
   "execution_count": 4,
   "id": "20c39aef",
   "metadata": {},
   "outputs": [
    {
     "data": {
      "text/plain": [
       "[12, 1, 5, 9, 0, 2, 6, 10, 3, 7, 11, 4, 8]"
      ]
     },
     "execution_count": 4,
     "metadata": {},
     "output_type": "execute_result"
    }
   ],
   "source": [
    "list_of_ts"
   ]
  },
  {
   "cell_type": "code",
   "execution_count": 6,
   "id": "b90434d0",
   "metadata": {},
   "outputs": [
    {
     "data": {
      "text/plain": [
       "[4, 8]"
      ]
     },
     "execution_count": 6,
     "metadata": {},
     "output_type": "execute_result"
    }
   ],
   "source": [
    "rech_ts('CACGTACGTACTA', 'TAC', list_of_ts)"
   ]
  },
  {
   "cell_type": "markdown",
   "id": "4d652a37",
   "metadata": {},
   "source": [
    "# HTR"
   ]
  },
  {
   "cell_type": "code",
   "execution_count": 7,
   "id": "1ecfc2f7",
   "metadata": {},
   "outputs": [],
   "source": [
    "def lcp(word, tts):\n",
    "    lcp_tab = []  # list lcp or htr\n",
    "    lcp_tab.append(-1)\n",
    "    # filling lcp table\n",
    "    for i in range(1, len(tts)):\n",
    "        lcp_tab.append(len_of_pref(word[tts[i]::], word[tts[i-1]::]))\n",
    "\n",
    "    return lcp_tab"
   ]
  },
  {
   "cell_type": "code",
   "execution_count": 8,
   "id": "82d52619",
   "metadata": {},
   "outputs": [],
   "source": [
    "def len_of_pref(p1, p2):\n",
    "    # len of the longes commen pref between p1 and p2\n",
    "    l1 = len(p1)\n",
    "    l2 = len(p2)\n",
    "    i = 0\n",
    "    j = 0\n",
    "    while i < l1 and j < l2:\n",
    "        if p1[i] != p2[j]:\n",
    "            break\n",
    "\n",
    "        j += 1\n",
    "        i += 1\n",
    "    return i"
   ]
  },
  {
   "cell_type": "code",
   "execution_count": 9,
   "id": "15158ca8",
   "metadata": {},
   "outputs": [
    {
     "name": "stdout",
     "output_type": "stream",
     "text": [
      "[14, 7, 18, 15, 3, 23, 1, 8, 10, 0, 19, 20, 16, 21, 4, 24, 13, 6, 17, 2, 22, 9, 5, 25, 11, 26, 12]\n",
      "[-1, 2, 1, 2, 3, 3, 1, 3, 2, 0, 1, 2, 1, 4, 2, 2, 0, 3, 2, 3, 4, 2, 1, 1, 2, 0, 1]\n"
     ]
    }
   ],
   "source": [
    "list_of_ts_2 = ts('CAGACGGAAGAGTGAACGACCCGACGT')\n",
    "htr = lcp('CAGACGGAAGAGTGAACGACCCGACGT',list_of_ts_2)\n",
    "print(list_of_ts_2)\n",
    "print(htr)"
   ]
  },
  {
   "cell_type": "markdown",
   "id": "79569f76",
   "metadata": {},
   "source": [
    "# plus long facteur repeater"
   ]
  },
  {
   "cell_type": "code",
   "execution_count": 11,
   "id": "dfdcd8f3",
   "metadata": {},
   "outputs": [],
   "source": [
    "def plfr(lcp_tab, ts_tab,word):\n",
    "    # getting max val\n",
    "    max_val = max(lcp_tab)\n",
    "    list_of_occ = []\n",
    "    for i in range(len(lcp_tab)):\n",
    "        if lcp_tab[i] == max_val:            \n",
    "            list_of_occ.append(i)\n",
    "\n",
    "    # plus long facteur repete\n",
    "    print('PLFR: ')\n",
    "    for elem in list_of_occ:\n",
    "        print(word[ts_tab[elem]:ts_tab[elem]+max_val])"
   ]
  },
  {
   "cell_type": "code",
   "execution_count": 12,
   "id": "2d6d16f4",
   "metadata": {},
   "outputs": [
    {
     "name": "stdout",
     "output_type": "stream",
     "text": [
      "PLFR: \n",
      "CGAC\n",
      "GACG\n"
     ]
    }
   ],
   "source": [
    "plfr(htr, list_of_ts_2,'CAGACGGAAGAGTGAACGACCCGACGT')"
   ]
  },
  {
   "cell_type": "markdown",
   "id": "1b42700d",
   "metadata": {},
   "source": [
    "# ITS"
   ]
  },
  {
   "cell_type": "code",
   "execution_count": 13,
   "id": "199a9e2d",
   "metadata": {},
   "outputs": [],
   "source": [
    "def its(ts_tab):\n",
    "    its_tab = []\n",
    "    for i in range(0, len(ts_tab)):\n",
    "        index = ts_tab.index(i)\n",
    "        its_tab.insert(i, index)\n",
    "\n",
    "    return its_tab"
   ]
  },
  {
   "cell_type": "code",
   "execution_count": 14,
   "id": "90ba1971",
   "metadata": {},
   "outputs": [
    {
     "name": "stdout",
     "output_type": "stream",
     "text": [
      "[8, 1, 4, 9, 7, 0, 3, 6, 2, 5]\n",
      "[5, 1, 8, 6, 2, 9, 7, 4, 0, 3]\n"
     ]
    }
   ],
   "source": [
    "list_of_ts_3 = ts('GATGATTGAG')\n",
    "print(list_of_ts_3)\n",
    "list_of_its = its(list_of_ts_3)\n",
    "print(list_of_its)"
   ]
  },
  {
   "cell_type": "markdown",
   "id": "a799db5f",
   "metadata": {},
   "source": [
    "# lgCandidat+plus court facteur unique"
   ]
  },
  {
   "cell_type": "code",
   "execution_count": 15,
   "id": "45f0eede",
   "metadata": {},
   "outputs": [],
   "source": [
    "def lgCandidat(word, htr, its):\n",
    "\n",
    "    lgCandidat_tab = []\n",
    "\n",
    "    for i in range(len(word)):\n",
    "        lgCandidat_tab.append(None)\n",
    "\n",
    "    for i in range(len(word)):\n",
    "        try:\n",
    "            lgCandidat_tab[i] = 1 + max(htr[its[i]], htr[its[i]+1])\n",
    "        except:\n",
    "            lgCandidat_tab[i] = 1 + htr[its[i]]\n",
    "\n",
    "    res = []\n",
    "    i = 0\n",
    "    while i + lgCandidat_tab[i] <= len(word):\n",
    "        if lgCandidat_tab[i] <= lgCandidat_tab[i+1]:\n",
    "            res.append(word[i:i+lgCandidat_tab[i]])\n",
    "        i += 1\n",
    "\n",
    "    print('pcfu: '+str(res))\n",
    "\n",
    "    return lgCandidat_tab"
   ]
  },
  {
   "cell_type": "code",
   "execution_count": 16,
   "id": "eec15a81",
   "metadata": {},
   "outputs": [
    {
     "name": "stdout",
     "output_type": "stream",
     "text": [
      "[8, 1, 4, 9, 7, 0, 3, 6, 2, 5]\n",
      "[5, 1, 8, 6, 2, 9, 7, 4, 0, 3]\n",
      "[-1, 1, 2, 0, 1, 2, 3, 0, 3, 1]\n",
      "pcfu: ['ATG', 'TGAT', 'TT', 'AG']\n"
     ]
    },
    {
     "data": {
      "text/plain": [
       "[4, 3, 4, 4, 3, 2, 4, 3, 2, 2]"
      ]
     },
     "execution_count": 16,
     "metadata": {},
     "output_type": "execute_result"
    }
   ],
   "source": [
    "list_of_ts_ = ts('GATGATTGAG')\n",
    "print(list_of_ts_)\n",
    "\n",
    "list_its_ = its(list_of_ts_)\n",
    "print(list_its_)\n",
    "\n",
    "list_htr = lcp('GATGATTGAG',list_of_ts_)\n",
    "print(list_htr)\n",
    "\n",
    "lgCandidat('GATGATTGAG', list_htr, list_its_)"
   ]
  },
  {
   "cell_type": "markdown",
   "id": "0c169853",
   "metadata": {},
   "source": [
    "# repetition super-maximalen"
   ]
  },
  {
   "cell_type": "code",
   "execution_count": 17,
   "id": "8cb60be7",
   "metadata": {},
   "outputs": [],
   "source": [
    "def rep_max(word, tab_ts, tab_htr):\n",
    "    condidate = [] \n",
    "    index_tab = {}\n",
    "    # getting possible pref\n",
    "    for i in range(len(tab_htr)):\n",
    "        if tab_htr[i] > 1:\n",
    "            text = word[tab_ts[i]:tab_ts[i]+tab_htr[i]]\n",
    "            if text not in condidate:\n",
    "                condidate.append(text)\n",
    "    # init dictionay of pos\n",
    "    for elem in condidate:\n",
    "        index_tab[elem] = []\n",
    "    # getting pos of pref\n",
    "    for i in range(len(tab_htr)):\n",
    "        if tab_htr[i] > 1:\n",
    "            index = tab_ts[i]\n",
    "            befor_index = tab_ts[i-1]\n",
    "            elem = word[tab_ts[i]:tab_ts[i]+tab_htr[i]]\n",
    "\n",
    "            if index not in index_tab[elem]:\n",
    "                index_tab[elem].append(index)\n",
    "\n",
    "            if befor_index not in index_tab[elem]:\n",
    "                index_tab[elem].append(befor_index)\n",
    "    # checking every pref\n",
    "    for key in index_tab.keys():\n",
    "        list_of_letters = []\n",
    "        for elem in index_tab[key]:\n",
    "            try:\n",
    "                list_of_letters.append(word[elem-1:elem])\n",
    "            except:\n",
    "                list_of_letters.append('')\n",
    "\n",
    "        if len(list_of_letters) != len(set(list_of_letters)):\n",
    "            index_tab[key] = False\n",
    "        else:\n",
    "            index_tab[key] = True\n",
    "    print(index_tab)\n",
    "    # printing resulate\n",
    "    for key in index_tab.keys():\n",
    "        if index_tab[key] == True:\n",
    "            print(\"RSML: \" + str(key))"
   ]
  },
  {
   "cell_type": "code",
   "execution_count": 18,
   "id": "08fa86a9",
   "metadata": {},
   "outputs": [
    {
     "name": "stdout",
     "output_type": "stream",
     "text": [
      "[3, 4, 1, 10, 6, 12, 0, 9, 5, 2, 11, 8, 7]\n",
      "[-1, 1, 1, 2, 2, 0, 1, 3, 3, 0, 1, 2, 1]\n",
      "['AT', 'GAT', 'TG']\n",
      "{'AT': [10, 1, 6], 'GAT': [9, 0, 5], 'TG': [8, 11]}\n",
      "{'AT': False, 'GAT': True, 'TG': True}\n",
      "RSML: GAT\n",
      "RSML: TG\n"
     ]
    }
   ],
   "source": [
    "list__of_ts = ts('GATAAGATTGATG')\n",
    "print(list__of_ts)\n",
    "list__htr = lcp ('GATAAGATTGATG',list__of_ts)\n",
    "print(list__htr)\n",
    "rep_max('GATAAGATTGATG', list__of_ts, list__htr)"
   ]
  }
 ],
 "metadata": {
  "kernelspec": {
   "display_name": "Python 3",
   "language": "python",
   "name": "python3"
  },
  "language_info": {
   "codemirror_mode": {
    "name": "ipython",
    "version": 3
   },
   "file_extension": ".py",
   "mimetype": "text/x-python",
   "name": "python",
   "nbconvert_exporter": "python",
   "pygments_lexer": "ipython3",
   "version": "3.8.7"
  }
 },
 "nbformat": 4,
 "nbformat_minor": 5
}
